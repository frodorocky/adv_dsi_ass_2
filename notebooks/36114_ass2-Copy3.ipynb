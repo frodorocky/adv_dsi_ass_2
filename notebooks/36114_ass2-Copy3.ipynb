{
 "cells": [
  {
   "cell_type": "markdown",
   "id": "69a68a21",
   "metadata": {},
   "source": [
    "# Multiple Classification"
   ]
  },
  {
   "cell_type": "markdown",
   "id": "12690721",
   "metadata": {},
   "source": [
    "In this exercise, will train a custome neural networks model that will accurately predict a sort of beer based on some evaluation criterias such as look, aroma, palate or flavor. We will be woking on the dataset: https://drive.google.com/file/d/1vYyJL_IB6KjKCxuk9kg4vIMPGTtoX8Ek/view\n"
   ]
  },
  {
   "cell_type": "markdown",
   "id": "bf45cef1",
   "metadata": {},
   "source": [
    "The steps are:\n",
    "1. Setup Repository\n",
    "2. Load and Explore data\n",
    "3. Prepare Data\n",
    "4. Train Model\n",
    "5. Evaluation\n",
    "6. Push Changes"
   ]
  },
  {
   "cell_type": "code",
   "execution_count": 1,
   "id": "7616f851",
   "metadata": {},
   "outputs": [],
   "source": [
    "import pandas as pd\n",
    "import numpy as np\n",
    "import seaborn as sns\n",
    "import joblib\n",
    "import matplotlib.pyplot as plt\n",
    "import matplotlib\n",
    "matplotlib.use('Qt5Agg') \n",
    "%matplotlib inline"
   ]
  },
  {
   "cell_type": "markdown",
   "id": "67e13f22",
   "metadata": {},
   "source": [
    "## 1. Setup Repository"
   ]
  },
  {
   "cell_type": "markdown",
   "id": "3c7e119b",
   "metadata": {},
   "source": [
    "**[1.1]** Go to the folder I created previously `adv_dsi_ass_2`"
   ]
  },
  {
   "cell_type": "code",
   "execution_count": 2,
   "id": "ecd3bf1f",
   "metadata": {},
   "outputs": [
    {
     "name": "stdout",
     "output_type": "stream",
     "text": [
      "/Users/frodo/Downloads/36114/project/adv_dsi_2023/adv_dsi_ass_2/ass_2\n"
     ]
    }
   ],
   "source": [
    "cd /Users/frodo/Downloads/36114/project/adv_dsi_2023/adv_dsi_ass_2/ass_2"
   ]
  },
  {
   "cell_type": "markdown",
   "id": "bf44edf0",
   "metadata": {},
   "source": [
    "**[1.2]** Copy the cookiecutter data science template"
   ]
  },
  {
   "cell_type": "code",
   "execution_count": null,
   "id": "d910e76b",
   "metadata": {},
   "outputs": [],
   "source": [
    "cookiecutter -c v1 https://github.com/drivendata/cookiecutter-data-science"
   ]
  },
  {
   "cell_type": "markdown",
   "id": "f939dd6d",
   "metadata": {},
   "source": [
    "**[1.3]** Create a file called `Dockerfile` and add the following content:"
   ]
  },
  {
   "cell_type": "code",
   "execution_count": null,
   "id": "9642bc53",
   "metadata": {},
   "outputs": [],
   "source": [
    "touch Dockerfile"
   ]
  },
  {
   "cell_type": "code",
   "execution_count": null,
   "id": "5a821a74",
   "metadata": {},
   "outputs": [],
   "source": [
    "FROM jupyter/scipy-notebook:python-3.8.13\n",
    "RUN pip install torch torchvision torchtext --extra-index-url https://download.pytorch.org/whl/cpu\n",
    "ENV PYTHONPATH \"${PYTHONPATH}:/home/jovyan/work\"\n",
    "WORKDIR /home/jovyan/work"
   ]
  },
  {
   "cell_type": "markdown",
   "id": "b979c52f",
   "metadata": {},
   "source": [
    "**[1.4]** Build the image from this Dockerfile"
   ]
  },
  {
   "cell_type": "code",
   "execution_count": null,
   "id": "ee83acac",
   "metadata": {},
   "outputs": [],
   "source": [
    "docker build -t pytorch-notebook:latest ."
   ]
  },
  {
   "cell_type": "markdown",
   "id": "db66285b",
   "metadata": {},
   "source": [
    "**[1.5]** Run the built Docker image"
   ]
  },
  {
   "cell_type": "code",
   "execution_count": null,
   "id": "33d313ef",
   "metadata": {},
   "outputs": [],
   "source": [
    "docker run  -dit --rm --name adv_dsi_2023 -p 8888:8888 -e JUPYTER_ENABLE_LAB=yes -v ~/Projects/adv_dsi_2023/adv_dsi_ass_2:/home/jovyan/work -v ~/Projects/adv_dsi_2023/src:/home/jovyan/work/src pytorch-notebook:latest "
   ]
  },
  {
   "cell_type": "markdown",
   "id": "d9eb6180",
   "metadata": {},
   "source": [
    "**[1.6]** Display last 50 lines of logs"
   ]
  },
  {
   "cell_type": "code",
   "execution_count": null,
   "id": "7479cacc",
   "metadata": {},
   "outputs": [],
   "source": [
    "docker logs --tail 50 adv_dsi_ass_2"
   ]
  },
  {
   "cell_type": "markdown",
   "id": "3388f5c8",
   "metadata": {},
   "source": [
    "**[1.7]** Initialise the repo"
   ]
  },
  {
   "cell_type": "code",
   "execution_count": null,
   "id": "deee512e",
   "metadata": {},
   "outputs": [],
   "source": [
    "git init"
   ]
  },
  {
   "cell_type": "markdown",
   "id": "40094592",
   "metadata": {},
   "source": [
    "**[1.8]** In the local repo `adv_dsi_ass_2`,"
   ]
  },
  {
   "cell_type": "code",
   "execution_count": null,
   "id": "62ccd2c5",
   "metadata": {},
   "outputs": [],
   "source": [
    "# Solution\n",
    "git remote add origin git@github.com:frodorocky/adv_dsi_ass_2.git"
   ]
  },
  {
   "cell_type": "markdown",
   "id": "a3b307c7",
   "metadata": {},
   "source": [
    "**[1.9]** Add changes to git staging area and commit them"
   ]
  },
  {
   "cell_type": "code",
   "execution_count": null,
   "id": "5a6373bf",
   "metadata": {},
   "outputs": [],
   "source": [
    "# Solution\n",
    "git add .\n",
    "git commit -m \"init\""
   ]
  },
  {
   "cell_type": "markdown",
   "id": "ddc93724",
   "metadata": {},
   "source": [
    "**[1.10]** Push master branch to origin"
   ]
  },
  {
   "cell_type": "code",
   "execution_count": null,
   "id": "f999c162",
   "metadata": {},
   "outputs": [],
   "source": [
    "git push --set-upstream origin master"
   ]
  },
  {
   "cell_type": "markdown",
   "id": "f510c611",
   "metadata": {},
   "source": [
    "**[1.11]** Create a new git branch called `pytorch_reg`"
   ]
  },
  {
   "cell_type": "code",
   "execution_count": null,
   "id": "0aa73ffc",
   "metadata": {},
   "outputs": [],
   "source": [
    "git checkout -b pytorch_reg"
   ]
  },
  {
   "cell_type": "markdown",
   "id": "0bcdecc8",
   "metadata": {},
   "source": [
    "## 2. Load and explore data"
   ]
  },
  {
   "cell_type": "markdown",
   "id": "8ca83087",
   "metadata": {},
   "source": [
    "We will do data cleaning and data exploration simultaneously because data exploration often goes hand in hand with data cleaning processes in our experiment"
   ]
  },
  {
   "cell_type": "markdown",
   "id": "7dbdb5a2",
   "metadata": {},
   "source": [
    "**[2.1]** Load the data in a dataframe called `df`"
   ]
  },
  {
   "cell_type": "code",
   "execution_count": 3,
   "id": "d4de96bb",
   "metadata": {},
   "outputs": [],
   "source": [
    "df = pd.read_csv('data/raw/beer_reviews.csv')"
   ]
  },
  {
   "cell_type": "markdown",
   "id": "aecb6796",
   "metadata": {},
   "source": [
    "**[2.2]** Display the first 5 rows of df"
   ]
  },
  {
   "cell_type": "code",
   "execution_count": 4,
   "id": "5b89a5dd",
   "metadata": {},
   "outputs": [
    {
     "data": {
      "text/html": [
       "<div>\n",
       "<style scoped>\n",
       "    .dataframe tbody tr th:only-of-type {\n",
       "        vertical-align: middle;\n",
       "    }\n",
       "\n",
       "    .dataframe tbody tr th {\n",
       "        vertical-align: top;\n",
       "    }\n",
       "\n",
       "    .dataframe thead th {\n",
       "        text-align: right;\n",
       "    }\n",
       "</style>\n",
       "<table border=\"1\" class=\"dataframe\">\n",
       "  <thead>\n",
       "    <tr style=\"text-align: right;\">\n",
       "      <th></th>\n",
       "      <th>brewery_id</th>\n",
       "      <th>brewery_name</th>\n",
       "      <th>review_time</th>\n",
       "      <th>review_overall</th>\n",
       "      <th>review_aroma</th>\n",
       "      <th>review_appearance</th>\n",
       "      <th>review_profilename</th>\n",
       "      <th>beer_style</th>\n",
       "      <th>review_palate</th>\n",
       "      <th>review_taste</th>\n",
       "      <th>beer_name</th>\n",
       "      <th>beer_abv</th>\n",
       "      <th>beer_beerid</th>\n",
       "    </tr>\n",
       "  </thead>\n",
       "  <tbody>\n",
       "    <tr>\n",
       "      <th>0</th>\n",
       "      <td>10325</td>\n",
       "      <td>Vecchio Birraio</td>\n",
       "      <td>1234817823</td>\n",
       "      <td>1.5</td>\n",
       "      <td>2.0</td>\n",
       "      <td>2.5</td>\n",
       "      <td>stcules</td>\n",
       "      <td>Hefeweizen</td>\n",
       "      <td>1.5</td>\n",
       "      <td>1.5</td>\n",
       "      <td>Sausa Weizen</td>\n",
       "      <td>5.0</td>\n",
       "      <td>47986</td>\n",
       "    </tr>\n",
       "    <tr>\n",
       "      <th>1</th>\n",
       "      <td>10325</td>\n",
       "      <td>Vecchio Birraio</td>\n",
       "      <td>1235915097</td>\n",
       "      <td>3.0</td>\n",
       "      <td>2.5</td>\n",
       "      <td>3.0</td>\n",
       "      <td>stcules</td>\n",
       "      <td>English Strong Ale</td>\n",
       "      <td>3.0</td>\n",
       "      <td>3.0</td>\n",
       "      <td>Red Moon</td>\n",
       "      <td>6.2</td>\n",
       "      <td>48213</td>\n",
       "    </tr>\n",
       "    <tr>\n",
       "      <th>2</th>\n",
       "      <td>10325</td>\n",
       "      <td>Vecchio Birraio</td>\n",
       "      <td>1235916604</td>\n",
       "      <td>3.0</td>\n",
       "      <td>2.5</td>\n",
       "      <td>3.0</td>\n",
       "      <td>stcules</td>\n",
       "      <td>Foreign / Export Stout</td>\n",
       "      <td>3.0</td>\n",
       "      <td>3.0</td>\n",
       "      <td>Black Horse Black Beer</td>\n",
       "      <td>6.5</td>\n",
       "      <td>48215</td>\n",
       "    </tr>\n",
       "    <tr>\n",
       "      <th>3</th>\n",
       "      <td>10325</td>\n",
       "      <td>Vecchio Birraio</td>\n",
       "      <td>1234725145</td>\n",
       "      <td>3.0</td>\n",
       "      <td>3.0</td>\n",
       "      <td>3.5</td>\n",
       "      <td>stcules</td>\n",
       "      <td>German Pilsener</td>\n",
       "      <td>2.5</td>\n",
       "      <td>3.0</td>\n",
       "      <td>Sausa Pils</td>\n",
       "      <td>5.0</td>\n",
       "      <td>47969</td>\n",
       "    </tr>\n",
       "    <tr>\n",
       "      <th>4</th>\n",
       "      <td>1075</td>\n",
       "      <td>Caldera Brewing Company</td>\n",
       "      <td>1293735206</td>\n",
       "      <td>4.0</td>\n",
       "      <td>4.5</td>\n",
       "      <td>4.0</td>\n",
       "      <td>johnmichaelsen</td>\n",
       "      <td>American Double / Imperial IPA</td>\n",
       "      <td>4.0</td>\n",
       "      <td>4.5</td>\n",
       "      <td>Cauldron DIPA</td>\n",
       "      <td>7.7</td>\n",
       "      <td>64883</td>\n",
       "    </tr>\n",
       "  </tbody>\n",
       "</table>\n",
       "</div>"
      ],
      "text/plain": [
       "   brewery_id             brewery_name  review_time  review_overall  \\\n",
       "0       10325          Vecchio Birraio   1234817823             1.5   \n",
       "1       10325          Vecchio Birraio   1235915097             3.0   \n",
       "2       10325          Vecchio Birraio   1235916604             3.0   \n",
       "3       10325          Vecchio Birraio   1234725145             3.0   \n",
       "4        1075  Caldera Brewing Company   1293735206             4.0   \n",
       "\n",
       "   review_aroma  review_appearance review_profilename  \\\n",
       "0           2.0                2.5            stcules   \n",
       "1           2.5                3.0            stcules   \n",
       "2           2.5                3.0            stcules   \n",
       "3           3.0                3.5            stcules   \n",
       "4           4.5                4.0     johnmichaelsen   \n",
       "\n",
       "                       beer_style  review_palate  review_taste  \\\n",
       "0                      Hefeweizen            1.5           1.5   \n",
       "1              English Strong Ale            3.0           3.0   \n",
       "2          Foreign / Export Stout            3.0           3.0   \n",
       "3                 German Pilsener            2.5           3.0   \n",
       "4  American Double / Imperial IPA            4.0           4.5   \n",
       "\n",
       "                beer_name  beer_abv  beer_beerid  \n",
       "0            Sausa Weizen       5.0        47986  \n",
       "1                Red Moon       6.2        48213  \n",
       "2  Black Horse Black Beer       6.5        48215  \n",
       "3              Sausa Pils       5.0        47969  \n",
       "4           Cauldron DIPA       7.7        64883  "
      ]
     },
     "execution_count": 4,
     "metadata": {},
     "output_type": "execute_result"
    }
   ],
   "source": [
    "df.head()"
   ]
  },
  {
   "cell_type": "markdown",
   "id": "300ed80a",
   "metadata": {},
   "source": [
    "**[2.3]** Set the index of a DataFrame to the values of the column 'Id'."
   ]
  },
  {
   "cell_type": "code",
   "execution_count": 5,
   "id": "e501ebd3",
   "metadata": {},
   "outputs": [],
   "source": [
    "df = df.set_index(['beer_beerid','review_time'])"
   ]
  },
  {
   "cell_type": "markdown",
   "id": "4e4f7cca",
   "metadata": {},
   "source": [
    "**[2.3]** Display the shape of train data"
   ]
  },
  {
   "cell_type": "code",
   "execution_count": 6,
   "id": "ce3dc7b5",
   "metadata": {},
   "outputs": [
    {
     "data": {
      "text/plain": [
       "(1586614, 11)"
      ]
     },
     "execution_count": 6,
     "metadata": {},
     "output_type": "execute_result"
    }
   ],
   "source": [
    "df.shape"
   ]
  },
  {
   "cell_type": "markdown",
   "id": "bc225bea",
   "metadata": {},
   "source": [
    "**[2.4]** Display the summary (info) of df"
   ]
  },
  {
   "cell_type": "code",
   "execution_count": 7,
   "id": "aa5def26",
   "metadata": {},
   "outputs": [
    {
     "name": "stdout",
     "output_type": "stream",
     "text": [
      "<class 'pandas.core.frame.DataFrame'>\n",
      "MultiIndex: 1586614 entries, (47986, 1234817823) to (33061, 1160005319)\n",
      "Data columns (total 11 columns):\n",
      " #   Column              Non-Null Count    Dtype  \n",
      "---  ------              --------------    -----  \n",
      " 0   brewery_id          1586614 non-null  int64  \n",
      " 1   brewery_name        1586599 non-null  object \n",
      " 2   review_overall      1586614 non-null  float64\n",
      " 3   review_aroma        1586614 non-null  float64\n",
      " 4   review_appearance   1586614 non-null  float64\n",
      " 5   review_profilename  1586266 non-null  object \n",
      " 6   beer_style          1586614 non-null  object \n",
      " 7   review_palate       1586614 non-null  float64\n",
      " 8   review_taste        1586614 non-null  float64\n",
      " 9   beer_name           1586614 non-null  object \n",
      " 10  beer_abv            1518829 non-null  float64\n",
      "dtypes: float64(6), int64(1), object(4)\n",
      "memory usage: 192.1+ MB\n"
     ]
    }
   ],
   "source": [
    "df.info()"
   ]
  },
  {
   "cell_type": "markdown",
   "id": "575fd447",
   "metadata": {},
   "source": [
    "**[2.5]** Display the descriptive statistics of df"
   ]
  },
  {
   "cell_type": "code",
   "execution_count": 8,
   "id": "84fbe390",
   "metadata": {},
   "outputs": [
    {
     "data": {
      "text/html": [
       "<div>\n",
       "<style scoped>\n",
       "    .dataframe tbody tr th:only-of-type {\n",
       "        vertical-align: middle;\n",
       "    }\n",
       "\n",
       "    .dataframe tbody tr th {\n",
       "        vertical-align: top;\n",
       "    }\n",
       "\n",
       "    .dataframe thead th {\n",
       "        text-align: right;\n",
       "    }\n",
       "</style>\n",
       "<table border=\"1\" class=\"dataframe\">\n",
       "  <thead>\n",
       "    <tr style=\"text-align: right;\">\n",
       "      <th></th>\n",
       "      <th>brewery_id</th>\n",
       "      <th>review_overall</th>\n",
       "      <th>review_aroma</th>\n",
       "      <th>review_appearance</th>\n",
       "      <th>review_palate</th>\n",
       "      <th>review_taste</th>\n",
       "      <th>beer_abv</th>\n",
       "    </tr>\n",
       "  </thead>\n",
       "  <tbody>\n",
       "    <tr>\n",
       "      <th>count</th>\n",
       "      <td>1.586614e+06</td>\n",
       "      <td>1.586614e+06</td>\n",
       "      <td>1.586614e+06</td>\n",
       "      <td>1.586614e+06</td>\n",
       "      <td>1.586614e+06</td>\n",
       "      <td>1.586614e+06</td>\n",
       "      <td>1.518829e+06</td>\n",
       "    </tr>\n",
       "    <tr>\n",
       "      <th>mean</th>\n",
       "      <td>3.130099e+03</td>\n",
       "      <td>3.815581e+00</td>\n",
       "      <td>3.735636e+00</td>\n",
       "      <td>3.841642e+00</td>\n",
       "      <td>3.743701e+00</td>\n",
       "      <td>3.792860e+00</td>\n",
       "      <td>7.042387e+00</td>\n",
       "    </tr>\n",
       "    <tr>\n",
       "      <th>std</th>\n",
       "      <td>5.578104e+03</td>\n",
       "      <td>7.206219e-01</td>\n",
       "      <td>6.976167e-01</td>\n",
       "      <td>6.160928e-01</td>\n",
       "      <td>6.822184e-01</td>\n",
       "      <td>7.319696e-01</td>\n",
       "      <td>2.322526e+00</td>\n",
       "    </tr>\n",
       "    <tr>\n",
       "      <th>min</th>\n",
       "      <td>1.000000e+00</td>\n",
       "      <td>0.000000e+00</td>\n",
       "      <td>1.000000e+00</td>\n",
       "      <td>0.000000e+00</td>\n",
       "      <td>1.000000e+00</td>\n",
       "      <td>1.000000e+00</td>\n",
       "      <td>1.000000e-02</td>\n",
       "    </tr>\n",
       "    <tr>\n",
       "      <th>25%</th>\n",
       "      <td>1.430000e+02</td>\n",
       "      <td>3.500000e+00</td>\n",
       "      <td>3.500000e+00</td>\n",
       "      <td>3.500000e+00</td>\n",
       "      <td>3.500000e+00</td>\n",
       "      <td>3.500000e+00</td>\n",
       "      <td>5.200000e+00</td>\n",
       "    </tr>\n",
       "    <tr>\n",
       "      <th>50%</th>\n",
       "      <td>4.290000e+02</td>\n",
       "      <td>4.000000e+00</td>\n",
       "      <td>4.000000e+00</td>\n",
       "      <td>4.000000e+00</td>\n",
       "      <td>4.000000e+00</td>\n",
       "      <td>4.000000e+00</td>\n",
       "      <td>6.500000e+00</td>\n",
       "    </tr>\n",
       "    <tr>\n",
       "      <th>75%</th>\n",
       "      <td>2.372000e+03</td>\n",
       "      <td>4.500000e+00</td>\n",
       "      <td>4.000000e+00</td>\n",
       "      <td>4.000000e+00</td>\n",
       "      <td>4.000000e+00</td>\n",
       "      <td>4.500000e+00</td>\n",
       "      <td>8.500000e+00</td>\n",
       "    </tr>\n",
       "    <tr>\n",
       "      <th>max</th>\n",
       "      <td>2.800300e+04</td>\n",
       "      <td>5.000000e+00</td>\n",
       "      <td>5.000000e+00</td>\n",
       "      <td>5.000000e+00</td>\n",
       "      <td>5.000000e+00</td>\n",
       "      <td>5.000000e+00</td>\n",
       "      <td>5.770000e+01</td>\n",
       "    </tr>\n",
       "  </tbody>\n",
       "</table>\n",
       "</div>"
      ],
      "text/plain": [
       "         brewery_id  review_overall  review_aroma  review_appearance  \\\n",
       "count  1.586614e+06    1.586614e+06  1.586614e+06       1.586614e+06   \n",
       "mean   3.130099e+03    3.815581e+00  3.735636e+00       3.841642e+00   \n",
       "std    5.578104e+03    7.206219e-01  6.976167e-01       6.160928e-01   \n",
       "min    1.000000e+00    0.000000e+00  1.000000e+00       0.000000e+00   \n",
       "25%    1.430000e+02    3.500000e+00  3.500000e+00       3.500000e+00   \n",
       "50%    4.290000e+02    4.000000e+00  4.000000e+00       4.000000e+00   \n",
       "75%    2.372000e+03    4.500000e+00  4.000000e+00       4.000000e+00   \n",
       "max    2.800300e+04    5.000000e+00  5.000000e+00       5.000000e+00   \n",
       "\n",
       "       review_palate  review_taste      beer_abv  \n",
       "count   1.586614e+06  1.586614e+06  1.518829e+06  \n",
       "mean    3.743701e+00  3.792860e+00  7.042387e+00  \n",
       "std     6.822184e-01  7.319696e-01  2.322526e+00  \n",
       "min     1.000000e+00  1.000000e+00  1.000000e-02  \n",
       "25%     3.500000e+00  3.500000e+00  5.200000e+00  \n",
       "50%     4.000000e+00  4.000000e+00  6.500000e+00  \n",
       "75%     4.000000e+00  4.500000e+00  8.500000e+00  \n",
       "max     5.000000e+00  5.000000e+00  5.770000e+01  "
      ]
     },
     "execution_count": 8,
     "metadata": {},
     "output_type": "execute_result"
    }
   ],
   "source": [
    "df.describe()"
   ]
  },
  {
   "cell_type": "markdown",
   "id": "167175af",
   "metadata": {},
   "source": [
    "**[2.6]** Distribution of Y"
   ]
  },
  {
   "cell_type": "code",
   "execution_count": 9,
   "id": "42b8016f",
   "metadata": {},
   "outputs": [
    {
     "data": {
      "text/plain": [
       "American IPA                        117586\n",
       "American Double / Imperial IPA       85977\n",
       "American Pale Ale (APA)              63469\n",
       "Russian Imperial Stout               54129\n",
       "American Double / Imperial Stout     50705\n",
       "                                     ...  \n",
       "Gose                                   686\n",
       "Faro                                   609\n",
       "Roggenbier                             466\n",
       "Kvass                                  297\n",
       "Happoshu                               241\n",
       "Name: beer_style, Length: 104, dtype: int64"
      ]
     },
     "execution_count": 9,
     "metadata": {},
     "output_type": "execute_result"
    }
   ],
   "source": [
    "df.beer_style.value_counts()"
   ]
  },
  {
   "cell_type": "markdown",
   "id": "095625a3",
   "metadata": {},
   "source": [
    "**[2.7]** Distribution of X"
   ]
  },
  {
   "cell_type": "code",
   "execution_count": 10,
   "id": "246e90ac",
   "metadata": {},
   "outputs": [
    {
     "name": "stdout",
     "output_type": "stream",
     "text": [
      "\n",
      "Feature: brewery_id\n",
      "count    1.586614e+06\n",
      "mean     3.130099e+03\n",
      "std      5.578104e+03\n",
      "min      1.000000e+00\n",
      "25%      1.430000e+02\n",
      "50%      4.290000e+02\n",
      "75%      2.372000e+03\n",
      "max      2.800300e+04\n",
      "Name: brewery_id, dtype: float64\n",
      "\n",
      "Feature: brewery_name\n",
      "Boston Beer Company (Samuel Adams)    39444\n",
      "Dogfish Head Brewery                  33839\n",
      "Stone Brewing Co.                     33066\n",
      "Sierra Nevada Brewing Co.             28751\n",
      "Bell's Brewery, Inc.                  25191\n",
      "                                      ...  \n",
      "Brauerei Stolz GmbH & Co. KG              1\n",
      "Hausbrauerei Düll                         1\n",
      "Browar Grybów                             1\n",
      "Staro&#269;eský Pivovárek Dobruka        1\n",
      "Spire Brewery                             1\n",
      "Name: brewery_name, Length: 5742, dtype: int64\n",
      "\n",
      "Feature: review_overall\n",
      "count    1.586614e+06\n",
      "mean     3.815581e+00\n",
      "std      7.206219e-01\n",
      "min      0.000000e+00\n",
      "25%      3.500000e+00\n",
      "50%      4.000000e+00\n",
      "75%      4.500000e+00\n",
      "max      5.000000e+00\n",
      "Name: review_overall, dtype: float64\n",
      "\n",
      "Feature: review_aroma\n",
      "count    1.586614e+06\n",
      "mean     3.735636e+00\n",
      "std      6.976167e-01\n",
      "min      1.000000e+00\n",
      "25%      3.500000e+00\n",
      "50%      4.000000e+00\n",
      "75%      4.000000e+00\n",
      "max      5.000000e+00\n",
      "Name: review_aroma, dtype: float64\n",
      "\n",
      "Feature: review_appearance\n",
      "count    1.586614e+06\n",
      "mean     3.841642e+00\n",
      "std      6.160928e-01\n",
      "min      0.000000e+00\n",
      "25%      3.500000e+00\n",
      "50%      4.000000e+00\n",
      "75%      4.000000e+00\n",
      "max      5.000000e+00\n",
      "Name: review_appearance, dtype: float64\n",
      "\n",
      "Feature: review_profilename\n",
      "northyorksammy     5817\n",
      "BuckeyeNation      4661\n",
      "mikesgroove        4617\n",
      "Thorpe429          3518\n",
      "womencantsail      3497\n",
      "                   ... \n",
      "fnong2                1\n",
      "drewzline             1\n",
      "amandacrane           1\n",
      "mymasterpiece75       1\n",
      "joeebbs               1\n",
      "Name: review_profilename, Length: 33387, dtype: int64\n",
      "\n",
      "Feature: beer_style\n",
      "American IPA                        117586\n",
      "American Double / Imperial IPA       85977\n",
      "American Pale Ale (APA)              63469\n",
      "Russian Imperial Stout               54129\n",
      "American Double / Imperial Stout     50705\n",
      "                                     ...  \n",
      "Gose                                   686\n",
      "Faro                                   609\n",
      "Roggenbier                             466\n",
      "Kvass                                  297\n",
      "Happoshu                               241\n",
      "Name: beer_style, Length: 104, dtype: int64\n",
      "\n",
      "Feature: review_palate\n",
      "count    1.586614e+06\n",
      "mean     3.743701e+00\n",
      "std      6.822184e-01\n",
      "min      1.000000e+00\n",
      "25%      3.500000e+00\n",
      "50%      4.000000e+00\n",
      "75%      4.000000e+00\n",
      "max      5.000000e+00\n",
      "Name: review_palate, dtype: float64\n",
      "\n",
      "Feature: review_taste\n",
      "count    1.586614e+06\n",
      "mean     3.792860e+00\n",
      "std      7.319696e-01\n",
      "min      1.000000e+00\n",
      "25%      3.500000e+00\n",
      "50%      4.000000e+00\n",
      "75%      4.500000e+00\n",
      "max      5.000000e+00\n",
      "Name: review_taste, dtype: float64\n",
      "\n",
      "Feature: beer_name\n",
      "90 Minute IPA                          3290\n",
      "India Pale Ale                         3130\n",
      "Old Rasputin Russian Imperial Stout    3111\n",
      "Sierra Nevada Celebration Ale          3000\n",
      "Two Hearted Ale                        2728\n",
      "                                       ... \n",
      "Titanbraü Pils                            1\n",
      "Titanbraü Weizen                          1\n",
      "Titanbräu Ale                             1\n",
      "Texas Brunette                            1\n",
      "Sausa Weizen                              1\n",
      "Name: beer_name, Length: 56857, dtype: int64\n",
      "\n",
      "Feature: beer_abv\n",
      "count    1.518829e+06\n",
      "mean     7.042387e+00\n",
      "std      2.322526e+00\n",
      "min      1.000000e-02\n",
      "25%      5.200000e+00\n",
      "50%      6.500000e+00\n",
      "75%      8.500000e+00\n",
      "max      5.770000e+01\n",
      "Name: beer_abv, dtype: float64\n"
     ]
    }
   ],
   "source": [
    "for column in df.columns:\n",
    "    print(f\"\\nFeature: {column}\")\n",
    "    if df[column].dtype in ['int64', 'float64']:\n",
    "        print(df[column].describe())\n",
    "    else:\n",
    "        print(df[column].value_counts())"
   ]
  },
  {
   "cell_type": "markdown",
   "id": "6b895466",
   "metadata": {},
   "source": [
    "## 3. Prepare data"
   ]
  },
  {
   "cell_type": "markdown",
   "id": "e0b93447",
   "metadata": {},
   "source": [
    "**[3.1]** Create a copy of `df` and save it into a variable called `df_cleaned`"
   ]
  },
  {
   "cell_type": "code",
   "execution_count": 11,
   "id": "0fe86b89",
   "metadata": {},
   "outputs": [],
   "source": [
    "df_cleaned = df.copy()"
   ]
  },
  {
   "cell_type": "markdown",
   "id": "940f85e7",
   "metadata": {},
   "source": [
    "**[3.2]** Dealing missing value"
   ]
  },
  {
   "cell_type": "code",
   "execution_count": 12,
   "id": "7322d748",
   "metadata": {},
   "outputs": [],
   "source": [
    "df_cleaned = df_cleaned.dropna()"
   ]
  },
  {
   "cell_type": "markdown",
   "id": "e1d79a65",
   "metadata": {},
   "source": [
    "**[3.3]** Extract the target variable into a variable called y"
   ]
  },
  {
   "cell_type": "code",
   "execution_count": 13,
   "id": "d229837b",
   "metadata": {},
   "outputs": [],
   "source": [
    "y = df_cleaned.pop('beer_style')"
   ]
  },
  {
   "cell_type": "markdown",
   "id": "637a2e67",
   "metadata": {},
   "source": [
    "**[3.4]** Mapping labels to numbers"
   ]
  },
  {
   "cell_type": "code",
   "execution_count": 14,
   "id": "9f9d7792",
   "metadata": {},
   "outputs": [],
   "source": [
    "from sklearn.preprocessing import OneHotEncoder, LabelEncoder\n",
    "\n",
    "label_encoder = LabelEncoder()\n",
    "y_encoded = label_encoder.fit_transform(y)"
   ]
  },
  {
   "cell_type": "markdown",
   "id": "e509761a",
   "metadata": {},
   "source": [
    "**[3.7]** split dataset"
   ]
  },
  {
   "cell_type": "code",
   "execution_count": 17,
   "id": "7bfd64a3",
   "metadata": {},
   "outputs": [],
   "source": [
    "from sklearn.model_selection import train_test_split\n",
    "\n",
    "# Convert DataFrames/Series to numpy arrays before splitting\n",
    "X_trainval, X_test, y_trainval, y_test = train_test_split(df_cleaned, y_encoded, test_size=0.2, stratify=y)\n",
    "X_train, X_val, y_train, y_val = train_test_split(X_trainval, y_trainval, test_size=0.25, stratify=y_trainval) "
   ]
  },
  {
   "cell_type": "markdown",
   "id": "4c89ed09",
   "metadata": {},
   "source": [
    "**[3.5]** Define customer dataset"
   ]
  },
  {
   "cell_type": "code",
   "execution_count": 18,
   "id": "2a4c72fd",
   "metadata": {},
   "outputs": [],
   "source": [
    "import torch\n",
    "from torch.utils.data import Dataset, DataLoader\n",
    "from sklearn.preprocessing import StandardScaler\n",
    "from sklearn.pipeline import Pipeline\n",
    "from sklearn.compose import ColumnTransformer\n",
    "from sklearn.model_selection import train_test_split"
   ]
  },
  {
   "cell_type": "code",
   "execution_count": 19,
   "id": "633e79cf",
   "metadata": {},
   "outputs": [],
   "source": [
    "class MyDataset(Dataset):\n",
    "    def __init__(self, data, target):\n",
    "        self.data = data\n",
    "        self.target = target\n",
    "\n",
    "    def __getitem__(self, index):\n",
    "\n",
    "        single_data = torch.from_numpy(self.data[index].todense()).float()\n",
    "        single_target = torch.tensor(self.target[index]).long()\n",
    "        return single_data, single_target\n",
    "\n",
    "    def __len__(self):\n",
    "        return self.data.shape[0]"
   ]
  },
  {
   "cell_type": "markdown",
   "id": "c60ad6c8",
   "metadata": {},
   "source": [
    "**[3.6]** Define preprocessor to deal with numeric features and categorical features"
   ]
  },
  {
   "cell_type": "code",
   "execution_count": 34,
   "id": "b34143bd",
   "metadata": {},
   "outputs": [],
   "source": [
    "num_cols = df_cleaned.select_dtypes(include=['float64', 'float32', 'int64', 'int32']).columns\n",
    "cat_cols = df_cleaned.select_dtypes(include=['object', 'category']).columns"
   ]
  },
  {
   "cell_type": "code",
   "execution_count": 35,
   "id": "21060bdb",
   "metadata": {},
   "outputs": [],
   "source": [
    "num_pipeline = Pipeline([\n",
    "    ('scaler', StandardScaler())\n",
    "])\n",
    "\n",
    "cat_pipeline = Pipeline([\n",
    "    ('onehot', OneHotEncoder(handle_unknown='ignore'))\n",
    "])\n",
    "\n",
    "preprocessor = ColumnTransformer([\n",
    "    ('num', num_pipeline, num_cols),\n",
    "    ('cat', cat_pipeline, cat_cols)\n",
    "])"
   ]
  },
  {
   "cell_type": "markdown",
   "id": "af41186a",
   "metadata": {},
   "source": [
    "**[3.7]** Transform dataset"
   ]
  },
  {
   "cell_type": "code",
   "execution_count": 36,
   "id": "51fb24c4",
   "metadata": {},
   "outputs": [],
   "source": [
    "X_train_preprocessed = preprocessor.fit_transform(X_train)\n",
    "X_val_preprocessed = preprocessor.transform(X_val)\n",
    "X_test_preprocessed = preprocessor.transform(X_test)"
   ]
  },
  {
   "cell_type": "markdown",
   "id": "99d9ed4b",
   "metadata": {},
   "source": [
    "**[3.8]** # Ensure validation and test sets have the same number of columns as the training set"
   ]
  },
  {
   "cell_type": "code",
   "execution_count": 39,
   "id": "1f49e853",
   "metadata": {},
   "outputs": [],
   "source": [
    "# get OneHotEncoder from the fitted preprocessor\n",
    "ohe = preprocessor.named_transformers_['cat'].named_steps['onehot'] \n",
    "\n",
    "# Get feature names from the OneHotEncoder\n",
    "feature_names = ohe.get_feature_names_out(input_features=cat_cols)  \n",
    "\n",
    "# Get the number of columns in the training data\n",
    "num_cols_train = len(feature_names)  \n",
    "\n",
    "if X_val_preprocessed.shape[1] < num_cols_train:\n",
    "    # Add zero columns for any missing features in the validation data\n",
    "    X_val_preprocessed = np.hstack([X_val_preprocessed, np.zeros((X_val_preprocessed.shape[0], num_cols_train - X_val_preprocessed.shape[1]))])\n",
    "\n",
    "if X_test_preprocessed.shape[1] < num_cols_train:\n",
    "    # Add zero columns for any missing features in the test data\n",
    "    X_test_preprocessed = np.hstack([X_test_preprocessed, np.zeros((X_test_preprocessed.shape[0], num_cols_train - X_test_preprocessed.shape[1]))])\n"
   ]
  },
  {
   "cell_type": "markdown",
   "id": "c434b589",
   "metadata": {},
   "source": [
    "**[3.9]** Dataset Load"
   ]
  },
  {
   "cell_type": "code",
   "execution_count": 40,
   "id": "02996709",
   "metadata": {},
   "outputs": [],
   "source": [
    "train_dataset = MyDataset(X_train_preprocessed, y_train)\n",
    "val_dataset = MyDataset(X_val_preprocessed, y_val)\n",
    "test_dataset = MyDataset(X_test_preprocessed, y_test)"
   ]
  },
  {
   "cell_type": "code",
   "execution_count": 41,
   "id": "b0834034",
   "metadata": {},
   "outputs": [],
   "source": [
    "train_loader = DataLoader(train_dataset, batch_size=32, shuffle=True)\n",
    "val_loader = DataLoader(val_dataset, batch_size=32, shuffle=False)\n",
    "test_loader = DataLoader(test_dataset, batch_size=32, shuffle=False)"
   ]
  },
  {
   "cell_type": "markdown",
   "id": "abab11ff",
   "metadata": {},
   "source": [
    "## 4. Train model"
   ]
  },
  {
   "cell_type": "markdown",
   "id": "16d3586a",
   "metadata": {},
   "source": [
    "**[4.1]** Initialize hyperparameter"
   ]
  },
  {
   "cell_type": "code",
   "execution_count": 50,
   "id": "0f858060",
   "metadata": {},
   "outputs": [],
   "source": [
    "import torch\n",
    "from torch import nn\n",
    "from torch.optim import Adam\n",
    "\n",
    "# set hyperparameter\n",
    "input_size = X_train_preprocessed.shape[1]  \n",
    "hidden_size = 64  \n",
    "num_classes = len(np.unique(y_train))  \n",
    "num_epochs = 10  \n",
    "learning_rate = 0.1  "
   ]
  },
  {
   "cell_type": "markdown",
   "id": "0c2ac133",
   "metadata": {},
   "source": [
    "**[4.2]** define model"
   ]
  },
  {
   "cell_type": "code",
   "execution_count": 43,
   "id": "08e79d5a",
   "metadata": {},
   "outputs": [],
   "source": [
    "# define model\n",
    "class MLP(nn.Module):\n",
    "    def __init__(self, input_size, hidden_size, num_classes):\n",
    "        super(MLP, self).__init__()\n",
    "        self.fc1 = nn.Linear(input_size, hidden_size) \n",
    "        self.relu = nn.ReLU()\n",
    "        self.fc2 = nn.Linear(hidden_size, num_classes)  \n",
    "    \n",
    "    def forward(self, x):\n",
    "        out = self.fc1(x)\n",
    "        out = self.relu(out)\n",
    "        out = self.fc2(out)\n",
    "        out = out.squeeze()\n",
    "        return out"
   ]
  },
  {
   "cell_type": "markdown",
   "id": "e85fdf63",
   "metadata": {},
   "source": [
    "**[4.3]** define loss function and optimizer"
   ]
  },
  {
   "cell_type": "code",
   "execution_count": 59,
   "id": "8be8d1a5",
   "metadata": {},
   "outputs": [],
   "source": [
    "# create model\n",
    "model = MLP(input_size, hidden_size, num_classes)\n",
    "\n",
    "# define loss function and optimizer\n",
    "criterion = nn.CrossEntropyLoss()\n",
    "optimizer = torch.optim.SGD(model.parameters(), lr=learning_rate)"
   ]
  },
  {
   "cell_type": "markdown",
   "id": "af7f741b",
   "metadata": {},
   "source": [
    "**[4.4]** train model"
   ]
  },
  {
   "cell_type": "code",
   "execution_count": 60,
   "id": "32b284c0",
   "metadata": {},
   "outputs": [
    {
     "name": "stdout",
     "output_type": "stream",
     "text": [
      "Epoch [1/10], Loss: 0.8109, Val Loss: 0.6649\n",
      "Epoch [2/10], Loss: 0.5148, Val Loss: 0.3443\n",
      "Epoch [3/10], Loss: 0.2457, Val Loss: 0.2472\n",
      "Epoch [4/10], Loss: 0.1966, Val Loss: 0.1843\n",
      "Epoch [5/10], Loss: 0.1953, Val Loss: 0.1743\n",
      "Epoch [6/10], Loss: 0.0413, Val Loss: 0.1464\n",
      "Epoch [7/10], Loss: 0.0970, Val Loss: 0.1332\n",
      "Epoch [8/10], Loss: 0.0229, Val Loss: 0.1118\n",
      "Epoch [9/10], Loss: 0.0155, Val Loss: 0.1112\n",
      "Epoch [10/10], Loss: 0.0105, Val Loss: 0.1014\n"
     ]
    }
   ],
   "source": [
    "best_loss = float('inf')\n",
    "\n",
    "# train model\n",
    "for epoch in range(num_epochs):\n",
    "    for i, (features, labels) in enumerate(train_loader):\n",
    "        features = features.float()\n",
    "        labels = labels.long()\n",
    "        \n",
    "        if torch.cuda.is_available():\n",
    "            features = features.cuda()\n",
    "            labels = labels.cuda()\n",
    "        \n",
    "        # Forward Propagation\n",
    "        outputs = model(features)\n",
    "        loss = criterion(outputs, labels)\n",
    "        \n",
    "        # Backpropagation\n",
    "        optimizer.zero_grad()\n",
    "        loss.backward()\n",
    "        optimizer.step()\n",
    "    \n",
    "        \n",
    "    # validation\n",
    "    model.eval()\n",
    "    with torch.no_grad():\n",
    "        val_loss = 0\n",
    "        for i, (features, labels) in enumerate(val_loader):\n",
    "            features = features.float()\n",
    "            labels = labels.long()\n",
    "            \n",
    "            if torch.cuda.is_available():\n",
    "                features = features.cuda()\n",
    "                labels = labels.cuda()\n",
    "\n",
    "            outputs = model(features)\n",
    "            loss = criterion(outputs, labels)\n",
    "            val_loss += loss.item()\n",
    "        val_loss /= len(val_loader)\n",
    "\n",
    "    # save best model\n",
    "    if val_loss < best_loss:\n",
    "        best_loss = val_loss\n",
    "        torch.save(model.state_dict(), 'models/best_model.pth')\n",
    "\n",
    "    print('Epoch [{}/{}], Loss: {:.4f}, Val Loss: {:.4f}'\n",
    "          .format(epoch+1, num_epochs, loss.item(), val_loss))\n"
   ]
  },
  {
   "cell_type": "markdown",
   "id": "06a7efd2",
   "metadata": {},
   "source": [
    "## 5. Evaluation on test data"
   ]
  },
  {
   "cell_type": "markdown",
   "id": "362742f0",
   "metadata": {},
   "source": [
    "**[5.1]** we applied the trained model on test data to obtain model performance "
   ]
  },
  {
   "cell_type": "code",
   "execution_count": 61,
   "id": "3ef02787",
   "metadata": {},
   "outputs": [],
   "source": [
    "from sklearn.metrics import classification_report\n",
    "import numpy as np\n",
    "\n",
    "# load best model\n",
    "model.load_state_dict(torch.load('models/best_model.pth'))\n",
    "\n",
    "# predict and ground truth\n",
    "y_pred = []\n",
    "y_true = []\n",
    "\n",
    "with torch.no_grad():\n",
    "    for features, labels in test_loader:\n",
    "        features = features.float()\n",
    "        labels = labels.long()\n",
    "        \n",
    "        if torch.cuda.is_available():\n",
    "            features = features.cuda()\n",
    "            labels = labels.cuda()\n",
    "\n",
    "        # prediction\n",
    "        outputs = model(features)\n",
    "        _, predicted = torch.max(outputs.data, 1)\n",
    "\n",
    "        y_pred.extend(predicted.cpu().numpy().tolist())\n",
    "        y_true.extend(labels.cpu().numpy().tolist())"
   ]
  },
  {
   "cell_type": "markdown",
   "id": "b3b81d09",
   "metadata": {},
   "source": [
    "**[5.2]** Evaluation"
   ]
  },
  {
   "cell_type": "code",
   "execution_count": 62,
   "id": "cd8c32d3",
   "metadata": {},
   "outputs": [
    {
     "name": "stdout",
     "output_type": "stream",
     "text": [
      "              precision    recall  f1-score   support\n",
      "\n",
      "           0       0.98      0.95      0.97      1444\n",
      "           1       0.99      0.99      0.99      5793\n",
      "           2       0.98      0.98      0.98      8346\n",
      "           3       0.99      0.98      0.98      1722\n",
      "           4       0.99      0.99      0.99      5253\n",
      "           5       0.99      0.98      0.98      2232\n",
      "           6       0.94      0.93      0.93      2160\n",
      "           7       0.99      0.98      0.98      4826\n",
      "           8       0.99      0.87      0.92       239\n",
      "           9       0.99      1.00      0.99     17021\n",
      "          10       1.00      0.98      0.99      1079\n",
      "          11       1.00      0.99      0.99     10027\n",
      "          12       0.99      0.99      0.99     22629\n",
      "          13       0.95      0.99      0.97       766\n",
      "          14       0.96      0.99      0.97     11614\n",
      "          15       0.98      0.95      0.96      1673\n",
      "          16       0.97      0.98      0.98      4578\n",
      "          17       0.99      0.98      0.99      9329\n",
      "          18       0.99      0.97      0.98      4521\n",
      "          19       0.99      0.99      0.99      6270\n",
      "          20       0.98      0.98      0.98      3377\n",
      "          21       0.98      0.99      0.98      2284\n",
      "          22       0.97      0.93      0.95      1256\n",
      "          23       0.99      0.99      0.99      2448\n",
      "          24       0.93      0.97      0.95      3781\n",
      "          25       1.00      0.99      0.99      7500\n",
      "          26       0.97      0.99      0.98      6265\n",
      "          27       0.97      0.99      0.98       634\n",
      "          28       1.00      0.99      0.99       208\n",
      "          29       0.98      0.98      0.98      1329\n",
      "          30       1.00      0.98      0.99       439\n",
      "          31       0.99      0.96      0.98      2183\n",
      "          32       0.97      0.92      0.94       203\n",
      "          33       0.96      0.97      0.96       764\n",
      "          34       0.98      0.94      0.96       419\n",
      "          35       0.98      0.95      0.97       944\n",
      "          36       0.97      0.97      0.97      2406\n",
      "          37       0.99      0.99      0.99      4203\n",
      "          38       0.63      0.96      0.76       846\n",
      "          39       0.97      0.99      0.98      3882\n",
      "          40       0.99      0.96      0.97      1348\n",
      "          41       1.00      0.99      0.99       529\n",
      "          42       0.99      0.98      0.99      2688\n",
      "          43       0.93      0.90      0.92      1673\n",
      "          44       1.00      0.97      0.98      3598\n",
      "          45       0.89      0.82      0.85       424\n",
      "          46       0.98      0.98      0.98      3067\n",
      "          47       0.93      0.98      0.96      4563\n",
      "          48       0.93      0.67      0.78       130\n",
      "          49       0.99      0.96      0.98      2193\n",
      "          50       0.98      0.87      0.93       573\n",
      "          51       0.97      0.95      0.96       948\n",
      "          52       0.98      0.94      0.96       881\n",
      "          53       0.98      0.94      0.96      3510\n",
      "          54       0.94      0.94      0.94       543\n",
      "          55       0.97      0.97      0.97      3233\n",
      "          56       0.96      0.87      0.91       122\n",
      "          57       1.00      0.98      0.99       981\n",
      "          58       0.99      0.99      0.99      1313\n",
      "          59       0.99      0.97      0.98      1165\n",
      "          60       0.99      0.97      0.98      6397\n",
      "          61       0.96      0.98      0.97      4186\n",
      "          62       0.98      0.96      0.97       131\n",
      "          63       0.99      0.99      0.99      1185\n",
      "          64       0.53      0.57      0.55        47\n",
      "          65       0.98      0.97      0.97      5184\n",
      "          66       0.97      0.95      0.96      1988\n",
      "          67       0.99      0.98      0.99      2354\n",
      "          68       0.98      0.96      0.97      1464\n",
      "          69       0.95      0.93      0.94       307\n",
      "          70       0.98      0.91      0.94       487\n",
      "          71       0.99      0.94      0.96       423\n",
      "          72       0.85      0.87      0.86        46\n",
      "          73       0.99      0.97      0.98      1552\n",
      "          74       0.99      0.99      0.99      2043\n",
      "          75       1.00      0.85      0.92       208\n",
      "          76       0.97      0.98      0.98      2652\n",
      "          77       0.97      0.92      0.94       204\n",
      "          78       0.97      0.98      0.97      2026\n",
      "          79       0.99      0.98      0.99      2522\n",
      "          80       0.98      0.96      0.97      1448\n",
      "          81       0.95      0.97      0.96      1490\n",
      "          82       1.00      0.99      0.99      4332\n",
      "          83       0.99      0.98      0.99      3414\n",
      "          84       1.00      0.98      0.99      2903\n",
      "          85       0.99      0.99      0.99      2976\n",
      "          86       0.99      0.99      0.99      3588\n",
      "          87       0.99      0.95      0.97       753\n",
      "          88       0.98      0.81      0.89        79\n",
      "          89       1.00      0.99      1.00     10685\n",
      "          90       1.00      0.97      0.98      1928\n",
      "          91       0.99      0.99      0.99       201\n",
      "          92       0.99      0.98      0.99      6124\n",
      "          93       0.99      0.97      0.98      1882\n",
      "          94       0.99      0.98      0.98      3334\n",
      "          95       0.98      0.96      0.97      1706\n",
      "          96       0.99      0.97      0.98       546\n",
      "          97       0.96      0.92      0.94       566\n",
      "          98       0.95      0.99      0.97      5994\n",
      "          99       0.99      0.96      0.98      1667\n",
      "         100       0.99      0.98      0.98      1850\n",
      "         101       1.00      0.98      0.99       720\n",
      "         102       0.99      0.98      0.99      3998\n",
      "         103       0.94      0.98      0.96      5731\n",
      "\n",
      "    accuracy                           0.98    303696\n",
      "   macro avg       0.97      0.96      0.96    303696\n",
      "weighted avg       0.98      0.98      0.98    303696\n",
      "\n"
     ]
    }
   ],
   "source": [
    "# compute recision, recall, and f1 score\n",
    "print(classification_report(y_true, y_pred, zero_division=1))"
   ]
  },
  {
   "cell_type": "markdown",
   "id": "fe912eaa",
   "metadata": {},
   "source": [
    "## 6. Push changes"
   ]
  },
  {
   "cell_type": "markdown",
   "id": "546e29f7",
   "metadata": {},
   "source": [
    "**[6.1]** Add the changes to git staging area"
   ]
  },
  {
   "cell_type": "code",
   "execution_count": null,
   "id": "c2419478",
   "metadata": {},
   "outputs": [],
   "source": [
    "git add ."
   ]
  },
  {
   "cell_type": "markdown",
   "id": "fe53df48",
   "metadata": {},
   "source": [
    "**[6.2]** Create the snapshot of the repository and add a description"
   ]
  },
  {
   "cell_type": "code",
   "execution_count": null,
   "id": "27e9416e",
   "metadata": {},
   "outputs": [],
   "source": [
    "git commit -m \"MLP\""
   ]
  },
  {
   "cell_type": "markdown",
   "id": "d1a1f325",
   "metadata": {},
   "source": [
    "**[6.3]** Push snapshot to Github"
   ]
  },
  {
   "cell_type": "code",
   "execution_count": null,
   "id": "aba75f9f",
   "metadata": {},
   "outputs": [],
   "source": [
    "git push --set-upstream origin main"
   ]
  },
  {
   "cell_type": "markdown",
   "id": "f795deda",
   "metadata": {},
   "source": [
    "**[6.4]** Check out to the branch"
   ]
  },
  {
   "cell_type": "code",
   "execution_count": null,
   "id": "8c1e1942",
   "metadata": {},
   "outputs": [],
   "source": [
    "git checkout main"
   ]
  },
  {
   "cell_type": "markdown",
   "id": "17d847c5",
   "metadata": {},
   "source": [
    "**[6.5]** Pull the latest updates"
   ]
  },
  {
   "cell_type": "code",
   "execution_count": null,
   "id": "ef1d5d1b",
   "metadata": {},
   "outputs": [],
   "source": [
    "git pull"
   ]
  },
  {
   "cell_type": "markdown",
   "id": "c368a65d",
   "metadata": {},
   "source": [
    "**[6.6]** Stop the Docker container"
   ]
  },
  {
   "cell_type": "code",
   "execution_count": null,
   "id": "63b27399",
   "metadata": {},
   "outputs": [],
   "source": [
    "docker stop adv_dsi_ass_2"
   ]
  },
  {
   "cell_type": "markdown",
   "id": "26a2ae58",
   "metadata": {},
   "source": [
    "## Reference"
   ]
  },
  {
   "cell_type": "markdown",
   "id": "5fdfdc4c",
   "metadata": {},
   "source": [
    "So, A. (2023). 36114_AdvDSI_Lab3_Exercise3_Solutions. https://drive.google.com/file/d/17UpMxkj4slAQ2BDyAeNEYzUfTA9Ww3x6/view"
   ]
  }
 ],
 "metadata": {
  "kernelspec": {
   "display_name": "Python 3 (ipykernel)",
   "language": "python",
   "name": "python3"
  },
  "language_info": {
   "codemirror_mode": {
    "name": "ipython",
    "version": 3
   },
   "file_extension": ".py",
   "mimetype": "text/x-python",
   "name": "python",
   "nbconvert_exporter": "python",
   "pygments_lexer": "ipython3",
   "version": "3.9.0"
  }
 },
 "nbformat": 4,
 "nbformat_minor": 5
}
